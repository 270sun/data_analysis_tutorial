{
 "cells": [
  {
   "cell_type": "markdown",
   "metadata": {},
   "source": [
    "# 预测性分析\n",
    "\n",
    "经过了数据探索（数据质量分析、特征分布分析）和数据预处理（数据清洗、集成、变换）之后，终于有了可供分析的数据了。下面将会利用分类与回归算法，对数据进行预测性分析。\n",
    "\n",
    "分类与回归是机器学习的主要问题。通过学习分类与回归，在遇到新的数据的时候，就可以根据历史数据中蕴含的经验，来对新的数据进行分类或者预测了。一旦知道了未来的趋势，你就会在竞争中获得先机。\n",
    "\n",
    "就餐饮行业来说：\n",
    " * 如何基于菜品历史销售情况，以及节假日、气候和竞争对手等影响因素，对菜品销量进行趋势预测？\n",
    " * 如何预测未来一段时间哪些客户会流失，哪些客户最有可能成为VIP客户？\n",
    " * 如何预测一种新产品的销售量，以及在哪些种类的客户中会受欢迎？"
   ]
  },
  {
   "cell_type": "markdown",
   "metadata": {},
   "source": [
    "## 1. 常用的分类算法\n",
    "\n",
    " * 回归分析：回归分析是确定预测属性（数值型）与其他变量间相互依赖的定量关系最常用的统计学方法。包括：线性回归、非线性回归、Logistic回归、岭回归、主成分回归、偏最小二乘回归等模型\n",
    " * 树型模型：树型模型采用自顶向下的递归方式，在内部节点进行属性值的比较，并根据不同的属性值从该节点向下分支，最终得到的叶节点是学习划分的类。常用的模型包括：决策树、随机森林\n",
    " * 人工神经网络：人工神经网络是一种模仿大脑神经网络结构和功能而建立的信息处理系统，表示神经网络的输入与输出变量之间关系的模型，常用的模型包括：感知机、BP神经网络、Softmax、DNN、CNN等\n",
    " * 概率模型：概率模型是不确定知识表达和推理领域最有效的理论模型之一，常用的模型包括：贝叶斯网络、朴素贝叶斯\n",
    " 支持向量机：支持向量机是一种通过某种非线性映射，把低维的非线性可分转化为高维的线性可分，在高维空间进行线性分析的算法。常用模型包括：SVM、线性SVM、SVC"
   ]
  },
  {
   "cell_type": "markdown",
   "metadata": {},
   "source": [
    "### 1.1 回归分析\n",
    "\n",
    "回归分析是通过建立模型来研究变量之间相互关系的密切程度、结构状态及进行模型预测的一种有效工具，在工商管理、经济、社会、医学和生物学等领域应用十分广泛。**从19世纪初高斯提出最小二乘估计起**，回归分析的历史已有200多年。"
   ]
  },
  {
   "cell_type": "markdown",
   "metadata": {},
   "source": [
    "#### Logistic回归分析贷款用户是否可能会违约\n",
    "\n",
    "Logistic回归常用来解决二分类问题，在征信领域被广泛应用，用来判决一个用户是否可能会违约。"
   ]
  },
  {
   "cell_type": "code",
   "execution_count": 1,
   "metadata": {},
   "outputs": [
    {
     "data": {
      "text/html": [
       "<div>\n",
       "<style scoped>\n",
       "    .dataframe tbody tr th:only-of-type {\n",
       "        vertical-align: middle;\n",
       "    }\n",
       "\n",
       "    .dataframe tbody tr th {\n",
       "        vertical-align: top;\n",
       "    }\n",
       "\n",
       "    .dataframe thead th {\n",
       "        text-align: right;\n",
       "    }\n",
       "</style>\n",
       "<table border=\"1\" class=\"dataframe\">\n",
       "  <thead>\n",
       "    <tr style=\"text-align: right;\">\n",
       "      <th></th>\n",
       "      <th>年龄</th>\n",
       "      <th>教育</th>\n",
       "      <th>工龄</th>\n",
       "      <th>地址</th>\n",
       "      <th>收入</th>\n",
       "      <th>负债率</th>\n",
       "      <th>信用卡负债</th>\n",
       "      <th>其他负债</th>\n",
       "      <th>违约</th>\n",
       "    </tr>\n",
       "  </thead>\n",
       "  <tbody>\n",
       "    <tr>\n",
       "      <th>0</th>\n",
       "      <td>41</td>\n",
       "      <td>3</td>\n",
       "      <td>17</td>\n",
       "      <td>12</td>\n",
       "      <td>176</td>\n",
       "      <td>9.3</td>\n",
       "      <td>11.359392</td>\n",
       "      <td>5.008608</td>\n",
       "      <td>1</td>\n",
       "    </tr>\n",
       "    <tr>\n",
       "      <th>1</th>\n",
       "      <td>27</td>\n",
       "      <td>1</td>\n",
       "      <td>10</td>\n",
       "      <td>6</td>\n",
       "      <td>31</td>\n",
       "      <td>17.3</td>\n",
       "      <td>1.362202</td>\n",
       "      <td>4.000798</td>\n",
       "      <td>0</td>\n",
       "    </tr>\n",
       "    <tr>\n",
       "      <th>2</th>\n",
       "      <td>40</td>\n",
       "      <td>1</td>\n",
       "      <td>15</td>\n",
       "      <td>14</td>\n",
       "      <td>55</td>\n",
       "      <td>5.5</td>\n",
       "      <td>0.856075</td>\n",
       "      <td>2.168925</td>\n",
       "      <td>0</td>\n",
       "    </tr>\n",
       "    <tr>\n",
       "      <th>3</th>\n",
       "      <td>41</td>\n",
       "      <td>1</td>\n",
       "      <td>15</td>\n",
       "      <td>14</td>\n",
       "      <td>120</td>\n",
       "      <td>2.9</td>\n",
       "      <td>2.658720</td>\n",
       "      <td>0.821280</td>\n",
       "      <td>0</td>\n",
       "    </tr>\n",
       "    <tr>\n",
       "      <th>4</th>\n",
       "      <td>24</td>\n",
       "      <td>2</td>\n",
       "      <td>2</td>\n",
       "      <td>0</td>\n",
       "      <td>28</td>\n",
       "      <td>17.3</td>\n",
       "      <td>1.787436</td>\n",
       "      <td>3.056564</td>\n",
       "      <td>1</td>\n",
       "    </tr>\n",
       "  </tbody>\n",
       "</table>\n",
       "</div>"
      ],
      "text/plain": [
       "   年龄  教育  工龄  地址   收入   负债率      信用卡负债      其他负债  违约\n",
       "0  41   3  17  12  176   9.3  11.359392  5.008608   1\n",
       "1  27   1  10   6   31  17.3   1.362202  4.000798   0\n",
       "2  40   1  15  14   55   5.5   0.856075  2.168925   0\n",
       "3  41   1  15  14  120   2.9   2.658720  0.821280   0\n",
       "4  24   2   2   0   28  17.3   1.787436  3.056564   1"
      ]
     },
     "execution_count": 1,
     "metadata": {},
     "output_type": "execute_result"
    }
   ],
   "source": [
    "import pandas as pd\n",
    "\n",
    "filename = '../data/bankloan.xls'\n",
    "data = pd.read_excel(filename)\n",
    "\n",
    "data.head()"
   ]
  },
  {
   "cell_type": "markdown",
   "metadata": {},
   "source": [
    "数据中包含了用户的年龄、教育、工龄、地址、收入、负债率、信用卡负债、其他负债、是否违约。现在来尝试使用Logistic回归算法来学习，并构建模型。\n",
    "\n",
    "整个过程主要分为两步：\n",
    "1. 特征分析与选择\n",
    "2. 训练模型并给出封闭式测试的准确率"
   ]
  },
  {
   "cell_type": "code",
   "execution_count": 2,
   "metadata": {},
   "outputs": [
    {
     "name": "stderr",
     "output_type": "stream",
     "text": [
      "/opt/conda/lib/python3.6/site-packages/sklearn/utils/deprecation.py:58: DeprecationWarning: Class RandomizedLogisticRegression is deprecated; The class RandomizedLogisticRegression is deprecated in 0.19 and will be removed in 0.21.\n",
      "  warnings.warn(msg, category=DeprecationWarning)\n"
     ]
    },
    {
     "name": "stdout",
     "output_type": "stream",
     "text": [
      "所有特征的重要性评分为：[0.085 0.095 0.99  0.4   0.    0.98  0.57  0.07 ]\n",
      "有效特征为：工龄,地址,负债率,信用卡负债\n"
     ]
    }
   ],
   "source": [
    "x = data.iloc[:, :8].as_matrix()\n",
    "y = data.iloc[:, 8].as_matrix()\n",
    "\n",
    "from sklearn.linear_model import LogisticRegression as LR\n",
    "from sklearn.linear_model import RandomizedLogisticRegression as RLR\n",
    "\n",
    "rlr = RLR()\n",
    "rlr.fit(x, y)\n",
    "\n",
    "print(u'所有特征的重要性评分为：%s' % str(rlr.scores_))\n",
    "print(u'有效特征为：%s' % ','.join(data.columns[:8][rlr.get_support()]))"
   ]
  },
  {
   "cell_type": "code",
   "execution_count": 3,
   "metadata": {},
   "outputs": [
    {
     "name": "stdout",
     "output_type": "stream",
     "text": [
      "模型的平均正确率为：0.8057142857142857\n",
      "经过特征筛选后模型的平均正确率为：0.8142857142857143\n"
     ]
    }
   ],
   "source": [
    "selected_features = data[data.columns[:8][rlr.get_support()]].as_matrix()\n",
    "\n",
    "lr1 = LR()\n",
    "lr1.fit(x, y)\n",
    "print(u'模型的平均正确率为：%s' % lr1.score(x, y))\n",
    "\n",
    "lr2 = LR()\n",
    "lr2.fit(selected_features, y)\n",
    "\n",
    "print(u'经过特征筛选后模型的平均正确率为：%s' % lr2.score(selected_features, y))"
   ]
  },
  {
   "cell_type": "markdown",
   "metadata": {},
   "source": [
    "#### 利用决策树来预测天气对餐馆销量的影响\n",
    "\n",
    "决策树是一种树状结构，它的每一个叶节点对应着一个分类，非叶节点对应着在某个属性上的划分，根据样本在该属性上的不同取值将其划分成若干个子集。\n",
    "\n",
    "决策树模型训练的关键，在于如何决策树上某个属性划分的最佳参数。例如当年龄小于20岁，都是高风险客户，为什么是20，而不是21？\n",
    "\n",
    "常见的决策树算法分类\n",
    "1. ID3算法：其核心是在决策树的各级节点上，使用信息增益方法作为属性的选择标准，来帮助确定生成每个节点时所应采用的合适属性\n",
    "2. C4.5算法：相对ID3算法的重要改进是使用信息增益**率**来选择节点属性。ID3算法只适用于离散的描述属性，而C4.5算法既能够处理离散的描述属性，也可以处理连续的描述属性\n",
    "3. CART算法：CART决策树是一种十分有效的非参数分类和回归方法，通过构建树、修剪树、评估树来构建一个二叉树。当预测值是连续变量时，该树为回归树；当预测值是分类变量，该树为分类树。\n",
    "\n",
    "**互信息**：互信息越大，则表示两个随机变量越相关。如果特征字段F1=X1和预测值Class=Y1的互信息最大，那么第一个分叉是否应该用F1是否等于X1来判断呢？——参考《统计自然语言处理》中信息论基础部分"
   ]
  },
  {
   "cell_type": "code",
   "execution_count": 4,
   "metadata": {},
   "outputs": [
    {
     "data": {
      "text/html": [
       "<div>\n",
       "<style scoped>\n",
       "    .dataframe tbody tr th:only-of-type {\n",
       "        vertical-align: middle;\n",
       "    }\n",
       "\n",
       "    .dataframe tbody tr th {\n",
       "        vertical-align: top;\n",
       "    }\n",
       "\n",
       "    .dataframe thead th {\n",
       "        text-align: right;\n",
       "    }\n",
       "</style>\n",
       "<table border=\"1\" class=\"dataframe\">\n",
       "  <thead>\n",
       "    <tr style=\"text-align: right;\">\n",
       "      <th></th>\n",
       "      <th>天气</th>\n",
       "      <th>是否周末</th>\n",
       "      <th>是否有促销</th>\n",
       "      <th>销量</th>\n",
       "    </tr>\n",
       "    <tr>\n",
       "      <th>序号</th>\n",
       "      <th></th>\n",
       "      <th></th>\n",
       "      <th></th>\n",
       "      <th></th>\n",
       "    </tr>\n",
       "  </thead>\n",
       "  <tbody>\n",
       "    <tr>\n",
       "      <th>1</th>\n",
       "      <td>坏</td>\n",
       "      <td>是</td>\n",
       "      <td>是</td>\n",
       "      <td>高</td>\n",
       "    </tr>\n",
       "    <tr>\n",
       "      <th>2</th>\n",
       "      <td>坏</td>\n",
       "      <td>是</td>\n",
       "      <td>是</td>\n",
       "      <td>高</td>\n",
       "    </tr>\n",
       "    <tr>\n",
       "      <th>3</th>\n",
       "      <td>坏</td>\n",
       "      <td>是</td>\n",
       "      <td>是</td>\n",
       "      <td>高</td>\n",
       "    </tr>\n",
       "    <tr>\n",
       "      <th>4</th>\n",
       "      <td>坏</td>\n",
       "      <td>否</td>\n",
       "      <td>是</td>\n",
       "      <td>高</td>\n",
       "    </tr>\n",
       "    <tr>\n",
       "      <th>5</th>\n",
       "      <td>坏</td>\n",
       "      <td>是</td>\n",
       "      <td>是</td>\n",
       "      <td>高</td>\n",
       "    </tr>\n",
       "  </tbody>\n",
       "</table>\n",
       "</div>"
      ],
      "text/plain": [
       "   天气 是否周末 是否有促销 销量\n",
       "序号                 \n",
       "1   坏    是     是  高\n",
       "2   坏    是     是  高\n",
       "3   坏    是     是  高\n",
       "4   坏    否     是  高\n",
       "5   坏    是     是  高"
      ]
     },
     "execution_count": 4,
     "metadata": {},
     "output_type": "execute_result"
    }
   ],
   "source": [
    "filename = '../data/sales_data.xls'\n",
    "data = pd.read_excel(filename, index_col=u'序号')\n",
    "\n",
    "data.head()"
   ]
  },
  {
   "cell_type": "markdown",
   "metadata": {},
   "source": [
    "数据中包含有4个特征：天气、是否周末、是否有促销、销量。这些特征都是离散型的，所以可以使用ID3算法来训练决策树模型"
   ]
  },
  {
   "cell_type": "code",
   "execution_count": 5,
   "metadata": {},
   "outputs": [],
   "source": [
    "# 如何绘制混淆矩阵\n",
    "import matplotlib.pyplot as plt\n",
    "import numpy as np\n",
    "import itertools\n",
    "plt.rcParams['font.sans-serif'] = ['SimHei'] #用来正常显示中文标签\n",
    "plt.rcParams['axes.unicode_minus'] = False #用来正常显示负号\n",
    "\n",
    "def plot_confusion_matrix(cm, classes,\n",
    "                          normalize=False,\n",
    "                          title='Confusion matrix',\n",
    "                          cmap=plt.cm.Blues):\n",
    "    \"\"\"\n",
    "    This function prints and plots the confusion matrix.\n",
    "    Normalization can be applied by setting `normalize=True`.\n",
    "    \"\"\"\n",
    "    if normalize:\n",
    "        cm = cm.astype('float') / cm.sum(axis=1)[:, np.newaxis]\n",
    "        print(\"Normalized confusion matrix\")\n",
    "    else:\n",
    "        print('Confusion matrix, without normalization')\n",
    "\n",
    "    # print(cm)\n",
    "\n",
    "    plt.imshow(cm, interpolation='nearest', cmap=cmap)\n",
    "    plt.title(title)\n",
    "    plt.colorbar()\n",
    "    tick_marks = np.arange(len(classes))\n",
    "    plt.xticks(tick_marks, classes, rotation=45)\n",
    "    plt.yticks(tick_marks, classes)\n",
    "\n",
    "    fmt = '.2f' if normalize else 'd'\n",
    "    thresh = cm.max() / 2.\n",
    "    for i, j in itertools.product(range(cm.shape[0]), range(cm.shape[1])):\n",
    "        plt.text(j, i, format(cm[i, j], fmt),\n",
    "                 horizontalalignment=\"center\",\n",
    "                 color=\"white\" if cm[i, j] > thresh else \"black\")\n",
    "\n",
    "    plt.tight_layout()\n",
    "    plt.ylabel('True label')\n",
    "    plt.xlabel('Predicted label')"
   ]
  },
  {
   "cell_type": "code",
   "execution_count": 6,
   "metadata": {},
   "outputs": [
    {
     "name": "stdout",
     "output_type": "stream",
     "text": [
      "模型的准确率是: 0.764706\n",
      "模型的召回率是: 0.777778\n",
      "模型的F1是: 0.777778\n",
      "Normalized confusion matrix\n"
     ]
    },
    {
     "data": {
      "image/png": "[encoded data removed]",
      "text/plain": [
       "<matplotlib.figure.Figure at 0x7fec92b77080>"
      ]
     },
     "metadata": {},
     "output_type": "display_data"
    }
   ],
   "source": [
    "data[data == u'高'] = 1\n",
    "data[data == u'是'] = 1\n",
    "data[data == u'好'] = 1\n",
    "data[data != 1] = 0\n",
    "\n",
    "x = data.iloc[:,:3].as_matrix().astype(int)\n",
    "y = data.iloc[:,3].as_matrix().astype(int)\n",
    "\n",
    "from sklearn.tree import DecisionTreeClassifier as DTC\n",
    "dtc = DTC(criterion='entropy')\n",
    "dtc.fit(x, y)\n",
    "\n",
    "y_pred = dtc.predict(x)\n",
    "\n",
    "from sklearn.metrics import accuracy_score, f1_score, confusion_matrix, recall_score\n",
    "\n",
    "print(u'模型的准确率是: %f' % accuracy_score(y, y_pred))\n",
    "print(u'模型的召回率是: %f' % recall_score(y, y_pred))\n",
    "print(u'模型的F1是: %f' % f1_score(y, y_pred))\n",
    "cnf_matrix = confusion_matrix(y, y_pred)\n",
    "plt.figure()\n",
    "plot_confusion_matrix(cnf_matrix, classes=[u'高', u'低'], normalize=True, title='混淆矩阵')\n",
    "plt.show()"
   ]
  },
  {
   "cell_type": "code",
   "execution_count": 7,
   "metadata": {},
   "outputs": [],
   "source": [
    "from sklearn.tree import export_graphviz\n",
    "from sklearn.externals.six import StringIO\n",
    "\n",
    "with open(\"tree.dot\", 'w') as f:\n",
    "    f = export_graphviz(dtc, feature_names = data.columns[:3], out_file = f)\n",
    "    \n",
    "#with open(\"tree.dot\", 'r') as f:\n",
    "#    print(f.read())"
   ]
  },
  {
   "cell_type": "markdown",
   "metadata": {},
   "source": [
    "#### 安装graphviz来可视化决策树\n",
    "\n",
    "安装了Graphviz之后，可以用命令行来将dot文件转成png图片\n",
    "```shell\n",
    "dot -Tpng tree.dot -o tree.png\n",
    "```"
   ]
  },
  {
   "cell_type": "markdown",
   "metadata": {},
   "source": [
    "## 作业\n",
    "\n",
    "1. 利用神经网络来预测天气对餐馆销量的影响\n",
    "\n",
    "2. 利用SVM或神经网络算法对Iris（鸢尾属植物）进行分类。数据文件位置../data/iris.csv\n",
    "\n",
    "2. 利用决策树对员工满意度调查报告进行分析。数据文件位置../data/labor.csv"
   ]
  },
  {
   "cell_type": "markdown",
   "metadata": {},
   "source": [
    "## 参考资料\n",
    "1. Scikit-learn Algorithm Cheat Sheet\n",
    "![scikit-learn algorithm cheat sheet](./drop_shadows_background.png \"scikit-learn algorithm cheat sheet\")"
   ]
  },
  {
   "cell_type": "code",
   "execution_count": null,
   "metadata": {},
   "outputs": [],
   "source": []
  }
 ],
 "metadata": {
  "kernelspec": {
   "display_name": "Python 3",
   "language": "python",
   "name": "python3"
  },
  "language_info": {
   "codemirror_mode": {
    "name": "ipython",
    "version": 3
   },
   "file_extension": ".py",
   "mimetype": "text/x-python",
   "name": "python",
   "nbconvert_exporter": "python",
   "pygments_lexer": "ipython3",
   "version": "3.6.4"
  }
 },
 "nbformat": 4,
 "nbformat_minor": 2
}
