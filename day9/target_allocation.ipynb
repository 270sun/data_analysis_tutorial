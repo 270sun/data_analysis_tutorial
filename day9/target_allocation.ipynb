{
 "cells": [
  {
   "cell_type": "markdown",
   "metadata": {},
   "source": [
    "# Target Allocation"
   ]
  },
  {
   "cell_type": "code",
   "execution_count": 1,
   "metadata": {},
   "outputs": [
    {
     "name": "stdout",
     "output_type": "stream",
     "text": [
      "Last year sales amount is 1000\n",
      "Last year profit is 2801\n"
     ]
    }
   ],
   "source": [
    "import numpy as np\n",
    "from scipy.optimize import minimize\n",
    "\n",
    "volume = 1050.0\n",
    "profit = 3000.0\n",
    "\n",
    "number_of_product = 10\n",
    "\n",
    "P = np.array([0.023, 0.031, 0.012, 0.022, 0.012, 0.034, 0.015, 0.028, 0.016, 0.024])\n",
    "V_last_year = np.array([100.0, 200.0, 50.0, 50.0, 300.0, 20.0, 20.0, 60.0, 80.0, 120.0])\n",
    "unit_product_profit = np.array([1.1, 2.4, 1.3, 3.8, 4.2, 2.5, 1.8, 1.5, 3.2, 2.2])\n",
    "\n",
    "print(\"Last year sales amount is %d\" % sum(V_last_year))\n",
    "print(\"Last year profit is %d\" % sum(V_last_year * unit_product_profit))\n",
    "\n",
    "assert len(P) == number_of_product\n",
    "assert len(unit_product_profit) == number_of_product\n",
    "assert len(V_last_year) == number_of_product"
   ]
  },
  {
   "cell_type": "code",
   "execution_count": 2,
   "metadata": {},
   "outputs": [
    {
     "name": "stdout",
     "output_type": "stream",
     "text": [
      "Estimate next year's sales amount and profit\n",
      "Estimate profit rate is 2.796028\n",
      "Estimate sales amount is 1020.620000\n",
      "Estimate sales amount for each product:  [102.3  206.2   50.6   51.1  303.6   20.68  20.3   61.68  81.28 122.88]\n",
      "Estimate profit is 2853.682000\n",
      "Estimate profit for each product [ 112.53   494.88    65.78   194.18  1275.12    51.7     36.54    92.52\n",
      "  260.096  270.336]\n"
     ]
    }
   ],
   "source": [
    "# 目标函数\n",
    "V = lambda U: V_last_year * (1 + P + U)\n",
    "estimated_product_profit = lambda U: V_last_year * (1 + P + U) * unit_product_profit\n",
    "profit_rate = lambda U: sum(V(U) * unit_product_profit) / sum(V(U))\n",
    "reverse_profit_rate = lambda U: - profit_rate(U)\n",
    "\n",
    "U = np.zeros(number_of_product)\n",
    "print(\"Estimate next year's sales amount and profit\")\n",
    "print(\"Estimate profit rate is %f\" % profit_rate(U))\n",
    "print(\"Estimate sales amount is %f\" % sum(V(U)))\n",
    "print(\"Estimate sales amount for each product: \", V(U))\n",
    "print(\"Estimate profit is %f\" % sum(estimated_product_profit(U)))\n",
    "print(\"Estimate profit for each product\", estimated_product_profit(U))\n"
   ]
  },
  {
   "cell_type": "markdown",
   "metadata": {},
   "source": [
    "## scipy.optimize.minimize\n",
    "\n",
    "```python\n",
    ">>> from scipy.optimize import minimize, rosen, rosen_der\n",
    ">>> x0 = [1.3, 0.7, 0.8, 1.9, 1.2]\n",
    ">>> res = minimize(rosen, x0, method='Nelder-Mead', tol=1e-6)\n",
    ">>> res.x\n",
    "array([ 1.,  1.,  1.,  1.,  1.])\n",
    "```\n",
    "\n",
    "### constraints\n",
    "\n",
    "Constraints definition (only for COBYLA and SLSQP). Each constraint is defined in a dictionary with fields:\n",
    "\n",
    "type : str\n",
    "Constraint type: ‘eq’ for equality, ‘ineq’ for inequality.\n",
    "\n",
    "fun : callable\n",
    "The function defining the constraint.\n",
    "\n",
    "jac : callable, optional\n",
    "The Jacobian of fun (only for SLSQP).\n",
    "\n",
    "args : sequence, optional\n",
    "Extra arguments to be passed to the function and Jacobian.\n",
    "\n",
    "\n",
    "### bounds\n",
    "\n",
    "Bounds for variables (only for L-BFGS-B, TNC and SLSQP). (min, max) pairs for each element in x, defining the bounds on that parameter. Use None for one of min or max when there is no bound in that direction.\n",
    "\n",
    "### method\n",
    "\n",
    "If not given, chosen to be one of BFGS, L-BFGS-B, SLSQP, depending if the problem has constraints or bounds."
   ]
  },
  {
   "cell_type": "code",
   "execution_count": 3,
   "metadata": {},
   "outputs": [
    {
     "name": "stdout",
     "output_type": "stream",
     "text": [
      "To meet our target (sales amount 1050 and profit 3000), we need to tune the expect sales amount for each product\n",
      "[-0.1     0.0969 -0.1     0.1     0.1     0.1    -0.1    -0.1     0.1\n",
      " -0.1   ]\n",
      "predicted increase rate are:  [0.023 0.031 0.012 0.022 0.012 0.034 0.015 0.028 0.016 0.024]\n",
      "optimized increase rate are:  [-0.077   0.1279 -0.088   0.122   0.112   0.134  -0.085  -0.072   0.116\n",
      " -0.076 ]\n",
      "profit rate is 2.875518\n",
      "sales amount is 1050.000000\n",
      "sales amount for each product:  [ 92.3  225.58  45.6   56.1  333.6   22.68  18.3   55.68  89.28 110.88]\n",
      "predicted incremental sales:  [2.3  6.2  0.6  1.1  3.6  0.68 0.3  1.68 1.28 2.88]\n",
      "incremental sales:  [-7.7  25.58 -4.4   6.1  33.6   2.68 -1.7  -4.32  9.28 -9.12]\n",
      "profit is 3019.294000\n",
      "profit for each product [ 101.53   541.392   59.28   213.18  1401.12    56.7     32.94    83.52\n",
      "  285.696  243.936]\n"
     ]
    }
   ],
   "source": [
    "\n",
    "total_volume_constraint = lambda U: sum(V(U)) - volume\n",
    "profit_constraint = lambda U: sum(estimated_product_profit(U)) - profit\n",
    "\n",
    "constraints = (\n",
    "    {'type': 'ineq', 'fun': total_volume_constraint},\n",
    "    {'type': 'ineq', 'fun': profit_constraint},\n",
    ")\n",
    "boundary = 0.1\n",
    "bounds = (\n",
    "    (-boundary, boundary), (-boundary, boundary), (-boundary, boundary), (-boundary, boundary), (-boundary, boundary),\n",
    "    (-boundary, boundary), (-boundary, boundary), (-boundary, boundary), (-boundary, boundary), (-boundary, boundary)\n",
    ")\n",
    "\n",
    "res = minimize(reverse_profit_rate, U, method='SLSQP', tol=1e-6, bounds=bounds, constraints=constraints)\n",
    "\n",
    "print(\"To meet our target (sales amount %d and profit %d), we need to tune the expect sales amount for each product\" % (volume, profit))\n",
    "U = res.x\n",
    "print(U)\n",
    "print(\"predicted increase rate are: \", P)\n",
    "print(\"optimized increase rate are: \", U + P)\n",
    "print(\"profit rate is %f\" % profit_rate(U))\n",
    "print(\"sales amount is %f\" % sum(V(U)))\n",
    "print(\"sales amount for each product: \", V(U))\n",
    "print(\"predicted incremental sales: \", V(np.zeros(number_of_product)) - V_last_year)\n",
    "print(\"incremental sales: \", V(U) - V_last_year)\n",
    "print(\"profit is %f\" % sum(estimated_product_profit(U)))\n",
    "print(\"profit for each product\", estimated_product_profit(U))"
   ]
  },
  {
   "cell_type": "code",
   "execution_count": null,
   "metadata": {
    "collapsed": true
   },
   "outputs": [],
   "source": []
  }
 ],
 "metadata": {
  "kernelspec": {
   "display_name": "Python 3",
   "language": "python",
   "name": "python3"
  },
  "language_info": {
   "codemirror_mode": {
    "name": "ipython",
    "version": 3
   },
   "file_extension": ".py",
   "mimetype": "text/x-python",
   "name": "python",
   "nbconvert_exporter": "python",
   "pygments_lexer": "ipython3",
   "version": "3.6.1"
  }
 },
 "nbformat": 4,
 "nbformat_minor": 2
}
