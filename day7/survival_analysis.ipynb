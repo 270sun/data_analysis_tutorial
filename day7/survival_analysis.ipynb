{
 "cells": [
  {
   "cell_type": "markdown",
   "metadata": {},
   "source": [
    "# 生存分析\n",
    "\n",
    "生存分析是统计学的一个分支，专门用来分析期望的事件发生所需要的时间。生存分析回答类似的问题：某一类人群他们能否活超过多长时间？在给定的时间之后，有多大可能性去世或者发生其它事件？是否有多种原因会综合影响到生存时间？有哪些独特的环境或特征会延长或减少生存时间？\n",
    "\n",
    "在不同领域生存分析的应用\n",
    "* 在医学上可以是剩余生存时间\n",
    "* 在机械设备中可以是故障发生时间预测（Reliability Analysis）\n",
    "* 金融财经领域内某类事件的持续性分析（Duration Analysis）\n",
    "* 社会学的历史事件分析（Event History Analysis）"
   ]
  },
  {
   "cell_type": "markdown",
   "metadata": {},
   "source": [
    "## 1. 生存分析的场景\n",
    "\n",
    "* 描述特定人群的生存时间\n",
    "    * Life Tables 生命统计表\n",
    "    * Kaplan-Meier 曲线\n",
    "    * Survive Function 生存函数\n",
    "    * Hazard Function 危害函数\n",
    "* 对比不同人群的生存时间\n",
    "    * Log Rank Test\n",
    "* 描述某种特征变量（类别或者数值）对生存的影响\n",
    "    * Cox proportional hazard regression 比例回归模型\n",
    "    * Parametric survival models \n",
    "    * Survival trees\n",
    "    * Survival Random Forests\n",
    "\n"
   ]
  },
  {
   "cell_type": "markdown",
   "metadata": {},
   "source": [
    "## 2. 案例分析\n",
    "\n",
    "### 2.1. 急性白血病人生存分析\n",
    "目标是确定：是否需要继续对患者使用标准的化疗疗程？\n",
    "\n",
    "数据集：R package ’survival’, data set ‘aml’, from Miller, 1997"
   ]
  },
  {
   "cell_type": "code",
   "execution_count": 1,
   "metadata": {},
   "outputs": [
    {
     "data": {
      "text/html": [
       "<div>\n",
       "<style>\n",
       "    .dataframe thead tr:only-child th {\n",
       "        text-align: right;\n",
       "    }\n",
       "\n",
       "    .dataframe thead th {\n",
       "        text-align: left;\n",
       "    }\n",
       "\n",
       "    .dataframe tbody tr th {\n",
       "        vertical-align: top;\n",
       "    }\n",
       "</style>\n",
       "<table border=\"1\" class=\"dataframe\">\n",
       "  <thead>\n",
       "    <tr style=\"text-align: right;\">\n",
       "      <th></th>\n",
       "      <th>time</th>\n",
       "      <th>status</th>\n",
       "      <th>x</th>\n",
       "    </tr>\n",
       "    <tr>\n",
       "      <th>observation</th>\n",
       "      <th></th>\n",
       "      <th></th>\n",
       "      <th></th>\n",
       "    </tr>\n",
       "  </thead>\n",
       "  <tbody>\n",
       "    <tr>\n",
       "      <th>1</th>\n",
       "      <td>9</td>\n",
       "      <td>1</td>\n",
       "      <td>Maintained</td>\n",
       "    </tr>\n",
       "    <tr>\n",
       "      <th>2</th>\n",
       "      <td>13</td>\n",
       "      <td>1</td>\n",
       "      <td>Maintained</td>\n",
       "    </tr>\n",
       "    <tr>\n",
       "      <th>3</th>\n",
       "      <td>13</td>\n",
       "      <td>0</td>\n",
       "      <td>Maintained</td>\n",
       "    </tr>\n",
       "    <tr>\n",
       "      <th>4</th>\n",
       "      <td>18</td>\n",
       "      <td>1</td>\n",
       "      <td>Maintained</td>\n",
       "    </tr>\n",
       "    <tr>\n",
       "      <th>5</th>\n",
       "      <td>23</td>\n",
       "      <td>1</td>\n",
       "      <td>Maintained</td>\n",
       "    </tr>\n",
       "  </tbody>\n",
       "</table>\n",
       "</div>"
      ],
      "text/plain": [
       "             time  status           x\n",
       "observation                          \n",
       "1               9       1  Maintained\n",
       "2              13       1  Maintained\n",
       "3              13       0  Maintained\n",
       "4              18       1  Maintained\n",
       "5              23       1  Maintained"
      ]
     },
     "execution_count": 1,
     "metadata": {},
     "output_type": "execute_result"
    }
   ],
   "source": [
    "import numpy as np\n",
    "import pandas as pd\n",
    "%matplotlib inline\n",
    "\n",
    "#参数初始化\n",
    "inputfile = '../data/leukemia.csv' #销量及其他属性数据\n",
    "data = pd.read_csv(inputfile, index_col = 'observation') #读取数据\n",
    "\n",
    "data.head()"
   ]
  },
  {
   "cell_type": "markdown",
   "metadata": {},
   "source": [
    "上表即为aml的样例数据\n",
    "* Observation：即为病人的ID\n",
    "* Time：生存时间和审查时间，单位为周week\n",
    "* Status：白血病复发事件，0代表没有，1代表复发了\n",
    "* X（Treatment group）后续的治疗：是否持续性的采用了化疗"
   ]
  },
  {
   "cell_type": "markdown",
   "metadata": {},
   "source": [
    "#### 2.1.1 生存函数与KM曲线分析\n",
    "Survival Function S(t) 是患者的生存时间超过某个时间t的概率。理论上S(t)是一个连续函数，但是通常的KM曲线如下：\n"
   ]
  },
  {
   "cell_type": "code",
   "execution_count": 98,
   "metadata": {},
   "outputs": [
    {
     "name": "stdout",
     "output_type": "stream",
     "text": [
      "生存概率：\n",
      "          KM_estimate\n",
      "timeline             \n",
      "0.0          1.000000\n",
      "5.0          0.913043\n",
      "8.0          0.826087\n",
      "9.0          0.782609\n",
      "12.0         0.739130\n",
      "13.0         0.695652\n",
      "16.0         0.695652\n",
      "18.0         0.645963\n",
      "23.0         0.546584\n",
      "27.0         0.496894\n",
      "28.0         0.496894\n",
      "30.0         0.441684\n",
      "31.0         0.386473\n",
      "33.0         0.331263\n",
      "34.0         0.276052\n",
      "43.0         0.220842\n",
      "45.0         0.165631\n",
      "48.0         0.082816\n",
      "161.0        0.082816\n"
     ]
    },
    {
     "data": {
      "text/plain": [
       "<matplotlib.axes._subplots.AxesSubplot at 0x112f12d30>"
      ]
     },
     "execution_count": 98,
     "metadata": {},
     "output_type": "execute_result"
    },
    {
     "data": {
      "image/png": "[encoded data removed]",
      "text/plain": [
       "<matplotlib.figure.Figure at 0x112f8b3c8>"
      ]
     },
     "metadata": {},
     "output_type": "display_data"
    }
   ],
   "source": [
    "from lifelines import KaplanMeierFitter\n",
    "kmf = KaplanMeierFitter()\n",
    "kmf.fit(data['time'], event_observed=data['status'])\n",
    "print('生存概率：')\n",
    "print(kmf.survival_function_)\n",
    "kmf.median_\n",
    "kmf.plot()"
   ]
  },
  {
   "cell_type": "markdown",
   "metadata": {},
   "source": [
    "X轴时间，Y轴是生存概率，越往后存活概率越低。实线是白血病复发的事件，tick mark是指censored的未复发事件。因为只有一个人存活超过161周，所以161周内未复发概率为0.1，同时在161周标记了tick mark。"
   ]
  },
  {
   "cell_type": "markdown",
   "metadata": {},
   "source": [
    "#### 2.1.2 生命统计表\n",
    "生存统计表总结了整个数据集，根据在每个时间点上，观察到的事件数量，将会展示：\n",
    "* Time：给出事件发生的时间点\n",
    "* n.risk：在时间点t之前，白血病复发事件还没有发生的患者数量，包含最终censored没有发生事件的患者数量\n",
    "* n.event：在时间点t，白血病复发的患者数量\n",
    "* survival：在时间点t的生存比例\n",
    "* std.err：在时间点t，存活比例的标准差\n",
    "* lower 95% CI：95%置信度的最低生存比例\n",
    "* upper 95% CI：95%置信度的最高生存比例"
   ]
  },
  {
   "cell_type": "code",
   "execution_count": 93,
   "metadata": {},
   "outputs": [
    {
     "name": "stdout",
     "output_type": "stream",
     "text": [
      "5 0.0869565217391305 0.0 1.0 0.913043478261 [ 1.  1.  1.  1.  1.  1.  1.  1.  1.  1.  1.  1.  1.  1.  1.  1.  1.  1.\n",
      "  1.  1.  1.  1.  1.]\n",
      "8 0.1739130434782608 0.0 1.0 0.826086956522 [ 1.  1.  1.  1.  1.  1.  1.  1.  1.  1.  1.  1.  1.  1.  1.  1.  1.  1.\n",
      "  1.  1.  1.  1.  1.]\n",
      "9 0.21739130434782605 0.0 1.0 0.782608695652 [ 1.  1.  1.  1.  1.  1.  1.  1.  1.  1.  1.  1.  1.  1.  1.  1.  1.  1.\n",
      "  1.  1.  1.  1.  1.]\n",
      "12 0.26086956521739135 0.0 1.0 0.739130434783 [ 1.  1.  1.  1.  1.  1.  1.  1.  1.  1.  1.  1.  1.  1.  1.  1.  1.  1.\n",
      "  1.  1.  1.  1.  1.]\n",
      "13 0.30434782608695654 0.0 1.0 0.695652173913 [ 1.  1.  1.  1.  1.  1.  1.  1.  1.  1.  1.  1.  1.  1.  1.  1.  1.  1.\n",
      "  1.  1.  1.  1.  1.]\n",
      "16 0.30434782608695654 0.0 1.0 0.695652173913 [ 1.  1.  1.  1.  1.  1.  1.  1.  1.  1.  1.  1.  1.  1.  1.  1.  1.  1.\n",
      "  1.  1.  1.  1.  1.]\n",
      "18 0.3478260869565216 0.0 1.0 0.652173913043 [ 1.  1.  1.  1.  1.  1.  1.  1.  1.  1.  1.  1.  1.  1.  1.  1.  1.  1.\n",
      "  1.  1.  1.  1.  1.]\n",
      "23 0.4347826086956522 0.0 1.0 0.565217391304 [ 1.  1.  1.  1.  1.  1.  1.  1.  1.  1.  1.  1.  1.  1.  1.  1.  1.  1.\n",
      "  1.  1.  1.  1.  1.]\n",
      "27 0.47826086956521735 0.0 1.0 0.521739130435 [ 1.  1.  1.  1.  1.  1.  1.  1.  1.  1.  1.  1.  1.  1.  1.  1.  1.  1.\n",
      "  1.  1.  1.  1.  1.]\n",
      "28 0.47826086956521735 0.0 1.0 0.521739130435 [ 1.  1.  1.  1.  1.  1.  1.  1.  1.  1.  1.  1.  1.  1.  1.  1.  1.  1.\n",
      "  1.  1.  1.  1.  1.]\n",
      "30 0.5217391304347826 0.0 1.0 0.478260869565 [ 1.  1.  1.  1.  1.  1.  1.  1.  1.  1.  1.  1.  1.  1.  1.  1.  1.  1.\n",
      "  1.  1.  1.  1.  1.]\n",
      "31 0.5652173913043478 0.0 1.0 0.434782608696 [ 1.  1.  1.  1.  1.  1.  1.  1.  1.  1.  1.  1.  1.  1.  1.  1.  1.  1.\n",
      "  1.  1.  1.  1.  1.]\n",
      "33 0.6086956521739131 0.0 1.0 0.391304347826 [ 1.  1.  1.  1.  1.  1.  1.  1.  1.  1.  1.  1.  1.  1.  1.  1.  1.  1.\n",
      "  1.  1.  1.  1.  1.]\n",
      "34 0.6521739130434783 0.0 1.0 0.347826086957 [ 1.  1.  1.  1.  1.  1.  1.  1.  1.  1.  1.  1.  1.  1.  1.  1.  1.  1.\n",
      "  1.  1.  1.  1.  1.]\n",
      "43 0.6956521739130432 0.0 1.0 0.304347826087 [ 1.  1.  1.  1.  1.  1.  1.  1.  1.  1.  1.  1.  1.  1.  1.  1.  1.  1.\n",
      "  1.  1.  1.  1.  1.]\n",
      "45 0.7391304347826084 0.0 1.0 0.260869565217 [ 1.  1.  1.  1.  1.  1.  1.  1.  1.  1.  1.  1.  1.  1.  1.  1.  1.  1.\n",
      "  1.  1.  1.  1.  1.]\n",
      "48 0.7826086956521738 0.0 1.0 0.217391304348 [ 1.  1.  1.  1.  1.  1.  1.  1.  1.  1.  1.  1.  1.  1.  1.  1.  1.  1.\n",
      "  1.  1.  1.  1.  1.]\n",
      "161 0.7826086956521738 0.0 1.0 0.217391304348 [ 1.  1.  1.  1.  1.  1.  1.  1.  1.  1.  1.  1.  1.  1.  1.  1.  1.  1.\n",
      "  1.  1.  1.  1.  1.]\n"
     ]
    }
   ],
   "source": [
    "weeks = sorted(data.time.unique())\n",
    "total_observation = data.time.count() # 23 observed patients\n",
    "\n",
    "def get_records_by_time(week):\n",
    "    return data.loc[lambda df: df.time <= week]\n",
    "\n",
    "\n",
    "import math\n",
    "\n",
    "for week in weeks:\n",
    "    records = get_records_by_time(week)\n",
    "    death_num = records[lambda df: df.status == 1].time.count()\n",
    "    death = np.ones(death_num)\n",
    "    survival = np.ones(total_observation - death_num)\n",
    "    survival_list = np.concatenate([death, survival])\n",
    "    survival_ratio = (total_observation - death_num) / total_observation\n",
    "    diff = survival_list - survival_ratio\n",
    "    std_err = math.sqrt((diff * diff).sum() / 23)\n",
    "    print(week, std_err, survival_list.std(), survival_list.mean(), survival_ratio, survival_list)"
   ]
  },
  {
   "cell_type": "code",
   "execution_count": 15,
   "metadata": {},
   "outputs": [
    {
     "name": "stdout",
     "output_type": "stream",
     "text": [
      "[ 0.  0.  0.  0.  0.  0.  0.  1.  1.  2.  2.  3.  3.  3.  4.  4.  4.  4.\n",
      "  4.  4.  4.]\n",
      "[ 1.  1.  1.  1.  1.  1.  1.  1.  0.  1.  1.  1.  0.  0.  1.  1.  1.  1.\n",
      "  1.  0.  0.]\n"
     ]
    }
   ],
   "source": [
    "from lifelines.utils import survival_events_from_table, survival_table_from_events\n",
    "\n",
    "df = pd.read_csv('../data/survival_table.csv', usecols = ['observed_deaths', 'censored'])\n",
    "\n",
    "T, E = survival_events_from_table(df, observed_deaths_col='observed_deaths', censored_col='censored')\n",
    "\n",
    "print(T) # array([0,0,0,0,0,0,0,1,...])\n",
    "print(E) # array([1,1,1,1,1,1,1,0,...])\n"
   ]
  },
  {
   "cell_type": "code",
   "execution_count": null,
   "metadata": {
    "collapsed": true
   },
   "outputs": [],
   "source": []
  }
 ],
 "metadata": {
  "kernelspec": {
   "display_name": "Python 3",
   "language": "python",
   "name": "python3"
  },
  "language_info": {
   "codemirror_mode": {
    "name": "ipython",
    "version": 3
   },
   "file_extension": ".py",
   "mimetype": "text/x-python",
   "name": "python",
   "nbconvert_exporter": "python",
   "pygments_lexer": "ipython3",
   "version": "3.6.1"
  }
 },
 "nbformat": 4,
 "nbformat_minor": 2
}
